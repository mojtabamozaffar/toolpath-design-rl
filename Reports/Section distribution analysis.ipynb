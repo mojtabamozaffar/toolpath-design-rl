{
 "cells": [
  {
   "cell_type": "markdown",
   "metadata": {},
   "source": [
    "## Analyzing the properties and distribution of the sections\n",
    "\n",
    "The goal is to test if training sections and report sections are well-distributed or if they need modifications\n",
    "\n",
    "Key take aways:\n",
    "- initial section distribution were skewed toward small sections (number of active elements is chosen as the metric)\n",
    "- considering sections get smaller through the simulation, I decided to create a new section list\n",
    "- a new section list is created using ABC database with a close to uniform distribution of section will respect to their active elements\n",
    "- a new report section list is created that is uniformly distributed in section range"
   ]
  },
  {
   "cell_type": "code",
   "execution_count": 305,
   "metadata": {},
   "outputs": [
    {
     "name": "stderr",
     "output_type": "stream",
     "text": [
      "Using TensorFlow backend.\n"
     ]
    }
   ],
   "source": [
    "import numpy as np\n",
    "import matplotlib.pyplot as plt\n",
    "import seaborn as sns\n",
    "import glob\n",
    "import imageio\n",
    "import random\n",
    "import collections\n",
    "import cv2\n",
    "from keras.preprocessing.image import ImageDataGenerator"
   ]
  },
  {
   "cell_type": "code",
   "execution_count": 38,
   "metadata": {},
   "outputs": [],
   "source": [
    "def load_sections(img_path):\n",
    "    sections = []\n",
    "    for path in glob.glob(img_path+'*.png'):\n",
    "        img = np.asarray(imageio.imread(path))/255\n",
    "        img = img.astype(np.uint8)\n",
    "        sections.append(img.reshape(img.shape+(1,)))\n",
    "    return sections"
   ]
  },
  {
   "cell_type": "code",
   "execution_count": 86,
   "metadata": {},
   "outputs": [],
   "source": [
    "train_sections = load_sections('../Sections/Database_32x32/')\n",
    "report_sections = load_sections('../Sections/Database_32x32/Report/')"
   ]
  },
  {
   "cell_type": "code",
   "execution_count": 74,
   "metadata": {},
   "outputs": [
    {
     "data": {
      "image/png": "[encoded data removed]",
      "text/plain": [
       "<Figure size 576x2304 with 4 Axes>"
      ]
     },
     "metadata": {
      "needs_background": "light"
     },
     "output_type": "display_data"
    }
   ],
   "source": [
    "n_samples = 4\n",
    "fig, axes = plt.subplots(figsize=(8.0, n_samples* 8.0) , nrows=1, ncols=n_samples) \n",
    "samples = random.choices(train_sections, k = n_samples)\n",
    "for i in range(n_samples):\n",
    "    axes[i].imshow(samples[i].reshape(32,32))\n",
    "plt.tight_layout()    \n",
    "plt.show()"
   ]
  },
  {
   "cell_type": "code",
   "execution_count": 88,
   "metadata": {},
   "outputs": [],
   "source": [
    "n_pixels_train = [np.sum(section>0.5) for section in train_sections]\n",
    "n_pixels_train_mean = np.mean(n_pixels_train)\n",
    "n_pixels_report = [np.sum(section>0.5) for section in report_sections]"
   ]
  },
  {
   "cell_type": "code",
   "execution_count": 123,
   "metadata": {},
   "outputs": [
    {
     "data": {
      "image/png": "[encoded data removed]",
      "text/plain": [
       "<Figure size 432x288 with 1 Axes>"
      ]
     },
     "metadata": {
      "needs_background": "light"
     },
     "output_type": "display_data"
    }
   ],
   "source": [
    "fig, ax = plt.subplots()\n",
    "res = ax.hist(n_pixels_train, bins=30, label='train sections')\n",
    "plt.vlines(n_pixels_train_mean, 0, 50, label='mean train sections')\n",
    "res = ax.hist(n_pixels_report*20, bins=30, label='report sections')\n",
    "plt.legend()\n",
    "plt.show()"
   ]
  },
  {
   "cell_type": "markdown",
   "metadata": {},
   "source": [
    "## Improved database"
   ]
  },
  {
   "cell_type": "code",
   "execution_count": 402,
   "metadata": {},
   "outputs": [],
   "source": [
    "train_sections = load_sections('../Sections_imp/Database_32x32/')"
   ]
  },
  {
   "cell_type": "code",
   "execution_count": 403,
   "metadata": {},
   "outputs": [
    {
     "data": {
      "text/plain": [
       "358"
      ]
     },
     "execution_count": 403,
     "metadata": {},
     "output_type": "execute_result"
    }
   ],
   "source": [
    "len(train_sections)"
   ]
  },
  {
   "cell_type": "code",
   "execution_count": 404,
   "metadata": {},
   "outputs": [
    {
     "data": {
      "image/png": "[encoded data removed]",
      "text/plain": [
       "<Figure size 576x2304 with 4 Axes>"
      ]
     },
     "metadata": {
      "needs_background": "light"
     },
     "output_type": "display_data"
    }
   ],
   "source": [
    "n_samples = 4\n",
    "fig, axes = plt.subplots(figsize=(8.0, n_samples* 8.0) , nrows=1, ncols=n_samples) \n",
    "samples = random.choices(train_sections, k = n_samples)\n",
    "for i in range(n_samples):\n",
    "    axes[i].imshow(samples[i].reshape(32,32))\n",
    "plt.tight_layout()\n",
    "plt.show()"
   ]
  },
  {
   "cell_type": "code",
   "execution_count": 406,
   "metadata": {},
   "outputs": [
    {
     "data": {
      "image/png": "[encoded data removed]",
      "text/plain": [
       "<Figure size 432x288 with 1 Axes>"
      ]
     },
     "metadata": {
      "needs_background": "light"
     },
     "output_type": "display_data"
    }
   ],
   "source": [
    "n_pixels_train = [np.sum(section>0.5) for section in train_sections]\n",
    "n_pixels_train_mean = np.mean(n_pixels_train)\n",
    "fig, ax = plt.subplots()\n",
    "res = ax.hist(n_pixels_train, bins=30, label='train sections')\n",
    "plt.vlines(n_pixels_train_mean, 0, 50, label='mean train sections')\n",
    "plt.legend()\n",
    "plt.show()"
   ]
  },
  {
   "cell_type": "markdown",
   "metadata": {},
   "source": [
    "## Make section distribution uniform"
   ]
  },
  {
   "cell_type": "code",
   "execution_count": 428,
   "metadata": {},
   "outputs": [
    {
     "data": {
      "image/png": "[encoded data removed]",
      "text/plain": [
       "<Figure size 432x288 with 1 Axes>"
      ]
     },
     "metadata": {
      "needs_background": "light"
     },
     "output_type": "display_data"
    }
   ],
   "source": [
    "fig, ax = plt.subplots()\n",
    "res = ax.hist(n_pixels_train, bins=10, range=(1,300.), label='train sections')"
   ]
  },
  {
   "cell_type": "code",
   "execution_count": 430,
   "metadata": {},
   "outputs": [],
   "source": [
    "bins = 10\n",
    "max_per_bin = 40\n",
    "bins_range = np.linspace(1, 300., bins+1)\n",
    "bined_sections = []\n",
    "new_sections = []\n",
    "for i in range(bins):\n",
    "    if i == bins-1:\n",
    "        bin_section = [section for section in train_sections if (np.sum(section>0.5) >= bins_range[i])]\n",
    "    else:\n",
    "        bin_section = [section for section in train_sections if (np.sum(section>0.5) < bins_range[i+1] and np.sum(section>0.5) >= bins_range[i])]\n",
    "    if len(bin_section)>max_per_bin:\n",
    "        sec = random.sample(bin_section, max_per_bin)\n",
    "    else:\n",
    "        sec = bin_section.copy()\n",
    "    bined_sections.append(bin_section)\n",
    "    new_sections = new_sections + sec\n",
    "new_n_pixels = [np.sum(section>0.5) for section in new_sections]\n",
    "new_n_pixels_train_mean = np.mean(new_n_pixels)"
   ]
  },
  {
   "cell_type": "code",
   "execution_count": 594,
   "metadata": {},
   "outputs": [
    {
     "data": {
      "image/png": "[encoded data removed]",
      "text/plain": [
       "<Figure size 432x288 with 1 Axes>"
      ]
     },
     "metadata": {
      "needs_background": "light"
     },
     "output_type": "display_data"
    }
   ],
   "source": [
    "fig, ax = plt.subplots()\n",
    "res = ax.hist(new_n_pixels, bins=10, range=(1, 300.), label='train sections')\n",
    "plt.vlines(new_n_pixels_train_mean, 0, 40, label='mean train sections')\n",
    "plt.legend()\n",
    "plt.show()"
   ]
  },
  {
   "cell_type": "code",
   "execution_count": 668,
   "metadata": {},
   "outputs": [
    {
     "data": {
      "text/plain": [
       "<matplotlib.image.AxesImage at 0x7f0b78414710>"
      ]
     },
     "execution_count": 668,
     "metadata": {},
     "output_type": "execute_result"
    },
    {
     "data": {
      "image/png": "[encoded data removed]",
      "text/plain": [
       "<Figure size 432x288 with 1 Axes>"
      ]
     },
     "metadata": {
      "needs_background": "light"
     },
     "output_type": "display_data"
    }
   ],
   "source": [
    "search_bin = 9\n",
    "report = random.choice(bined_sections[search_bin])\n",
    "plt.imshow(report.reshape(32,32))"
   ]
  },
  {
   "cell_type": "code",
   "execution_count": 434,
   "metadata": {},
   "outputs": [],
   "source": [
    "new_report_sections = []"
   ]
  },
  {
   "cell_type": "code",
   "execution_count": 669,
   "metadata": {},
   "outputs": [],
   "source": [
    "new_report_sections.append(report)"
   ]
  },
  {
   "cell_type": "code",
   "execution_count": 672,
   "metadata": {},
   "outputs": [],
   "source": [
    "n_pixels_report = [np.sum(section>0.5) for section in new_report_sections]"
   ]
  },
  {
   "cell_type": "code",
   "execution_count": 679,
   "metadata": {},
   "outputs": [
    {
     "data": {
      "image/png": "[encoded data removed]",
      "text/plain": [
       "<Figure size 432x288 with 1 Axes>"
      ]
     },
     "metadata": {
      "needs_background": "light"
     },
     "output_type": "display_data"
    }
   ],
   "source": [
    "fig, ax = plt.subplots()\n",
    "res = ax.hist(new_n_pixels, bins=30, range=(1, 300.), label='train sections')\n",
    "plt.vlines(new_n_pixels_train_mean, 0, 40, label='mean train sections')\n",
    "res = ax.hist(n_pixels_report, bins=30, range=(1, 300.), label='report sections')\n",
    "plt.legend()\n",
    "plt.show()"
   ]
  },
  {
   "cell_type": "markdown",
   "metadata": {},
   "source": [
    "### Saving new sections"
   ]
  },
  {
   "cell_type": "code",
   "execution_count": 684,
   "metadata": {},
   "outputs": [],
   "source": [
    "for i in range(len(new_sections)):\n",
    "    cv2.imwrite('New_database/'+str(i)+'.png', new_sections[i]*255)\n",
    "    \n",
    "for i in range(len(new_report_sections)):\n",
    "    cv2.imwrite('New_database/Report/'+str(i)+'.png', new_report_sections[i]*255)"
   ]
  }
 ],
 "metadata": {
  "kernelspec": {
   "display_name": "Python 3",
   "language": "python",
   "name": "python3"
  },
  "language_info": {
   "codemirror_mode": {
    "name": "ipython",
    "version": 3
   },
   "file_extension": ".py",
   "mimetype": "text/x-python",
   "name": "python",
   "nbconvert_exporter": "python",
   "pygments_lexer": "ipython3",
   "version": "3.7.7"
  }
 },
 "nbformat": 4,
 "nbformat_minor": 4
}
